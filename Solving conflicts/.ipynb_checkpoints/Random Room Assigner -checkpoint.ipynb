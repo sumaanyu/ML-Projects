{
 "cells": [
  {
   "cell_type": "code",
   "execution_count": 3,
   "metadata": {
    "collapsed": true
   },
   "outputs": [],
   "source": [
    "import numpy as np"
   ]
  },
  {
   "cell_type": "code",
   "execution_count": 1,
   "metadata": {
    "collapsed": true
   },
   "outputs": [],
   "source": [
    "room1 = 154\n",
    "room2 = 154\n",
    "room3 = 160\n",
    "room4 = 138"
   ]
  },
  {
   "cell_type": "code",
   "execution_count": 6,
   "metadata": {},
   "outputs": [
    {
     "name": "stdout",
     "output_type": "stream",
     "text": [
      "[['JV:' 'room4']\n",
      " ['TG:' 'room2']\n",
      " ['KD:' 'room1']\n",
      " ['SM:' 'room3']]\n"
     ]
    }
   ],
   "source": [
    "s = ['KD:','SM:','TG:','JV:'] \n",
    "#s = ['KD:','SM:','TG:'] \n",
    "t = ['room1','room2','room3','room4'] \n",
    "#t = ['room1','room2','room3'] \n",
    "x = np.random.choice(s, 4, replace = False)\n",
    "y = np.random.choice(t, 4, replace = False)\n",
    "print(np.c_[x, y]) "
   ]
  }
 ],
 "metadata": {
  "kernelspec": {
   "display_name": "Python 3",
   "language": "python",
   "name": "python3"
  },
  "language_info": {
   "codemirror_mode": {
    "name": "ipython",
    "version": 3
   },
   "file_extension": ".py",
   "mimetype": "text/x-python",
   "name": "python",
   "nbconvert_exporter": "python",
   "pygments_lexer": "ipython3",
   "version": "3.6.8"
  }
 },
 "nbformat": 4,
 "nbformat_minor": 2
}
