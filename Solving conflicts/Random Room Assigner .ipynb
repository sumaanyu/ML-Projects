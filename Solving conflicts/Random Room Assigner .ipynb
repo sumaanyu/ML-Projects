{
 "cells": [
  {
   "cell_type": "code",
   "execution_count": 54,
   "metadata": {
    "collapsed": true
   },
   "outputs": [],
   "source": [
    "import numpy as np"
   ]
  },
  {
   "cell_type": "code",
   "execution_count": 55,
   "metadata": {},
   "outputs": [],
   "source": [
    "room1 = 154\n",
    "room2 = 154\n",
    "room3 = 150\n",
    "room4 = 130"
   ]
  },
  {
   "cell_type": "code",
   "execution_count": 73,
   "metadata": {},
   "outputs": [
    {
     "name": "stdout",
     "output_type": "stream",
     "text": [
      "[['TG:' 'room3']\n",
      " ['SM:' 'room1']\n",
      " ['KD:' 'room2']]\n"
     ]
    }
   ],
   "source": [
    "#s = ['KD:','SM:','TG:','JV:'] \n",
    "s = ['KD:','SM:','TG:'] \n",
    "#t = ['room1','room2','room3','room4'] \n",
    "t = ['room1','room2','room3'] \n",
    "x = np.random.choice(s, 3, replace = False)\n",
    "y = np.random.choice(t, 3, replace = False)\n",
    "print(np.c_[x, y]) "
   ]
  },
  {
   "cell_type": "code",
   "execution_count": null,
   "metadata": {
    "collapsed": true
   },
   "outputs": [],
   "source": []
  }
 ],
 "metadata": {
  "kernelspec": {
   "display_name": "Python 3",
   "language": "python",
   "name": "python3"
  },
  "language_info": {
   "codemirror_mode": {
    "name": "ipython",
    "version": 3
   },
   "file_extension": ".py",
   "mimetype": "text/x-python",
   "name": "python",
   "nbconvert_exporter": "python",
   "pygments_lexer": "ipython3",
   "version": "3.6.8"
  }
 },
 "nbformat": 4,
 "nbformat_minor": 2
}
